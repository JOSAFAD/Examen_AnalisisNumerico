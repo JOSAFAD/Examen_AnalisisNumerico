{
  "nbformat": 4,
  "nbformat_minor": 0,
  "metadata": {
    "colab": {
      "name": "Examen Primer Parcial.ipynb",
      "provenance": [],
      "collapsed_sections": []
    },
    "kernelspec": {
      "name": "python3",
      "display_name": "Python 3"
    }
  },
  "cells": [
    {
      "cell_type": "markdown",
      "metadata": {
        "id": "9ncBd6bBVZHa"
      },
      "source": [
        "Escribir un programa que calcule las raíces de\n",
        "ax^2 + bx + c = 0 (1).\n",
        "\n",
        "Esto lo puede hacer con la ecuación general de segundo orden.\n",
        "\n",
        "Si el discriminante (b2 􀀀 4ac) es negativo, entonces debe de imprimir:\n",
        "\n",
        "Error, el discriminante tiene que se positivo\n",
        "\n",
        "y debe de volver a leer los valores de los coe\fcientes a, b y c, esto se debe de ciclar hasta que el discriminante sea positivo.\n",
        "\n"
      ]
    },
    {
      "cell_type": "code",
      "metadata": {
        "id": "-7j18CYVVpb4",
        "outputId": "823534f7-fbff-433f-b868-977a747d2447",
        "colab": {
          "base_uri": "https://localhost:8080/"
        }
      },
      "source": [
        "import math\n",
        "\n",
        "a=(float(input(\"Ingrese el valor del primer término (ax^2): \")))\n",
        "b=(float(input(\"Ingrese el valor del segundo término (bx): \")))\n",
        "c=(float(input(\"Ingrese el valor del tercer téminino (c): \")))\n",
        "\n",
        "print(\"Su ecuación es: \",a,\"x^2 +\",b,\"x +\",c)\n",
        "\n",
        "dis=(b*b)+((-4)*a*c)\n",
        "\n",
        "if(dis<0):\n",
        "  print(\"Error,el discriminante tiene que ser positivo ó todos no pueden ser cero\")\n",
        "  while(dis>0):\n",
        "    a=(int(input(\"Ingrese el valor del primer término (ax^2): \")))\n",
        "    b=(int(input(\"Ingrese el valor del segundo término (bx): \")))\n",
        "    c=(int(input(\"Ingrese el valor del tercer téminino (c): \")))\n",
        "\n",
        "    dis=(b*b)+((-4)*a*c)\n",
        "\n",
        "\n",
        "else:\n",
        "\n",
        "  x=math.sqrt(dis) \n",
        "\n",
        "  print(\"Tu valor de x1 es: \",((-b+x)/(2*a)))\n",
        "  print(\"Tu valor de x2 es: \",((+b+x)/(2*a)))\n",
        "\n",
        "\n",
        "\n"
      ],
      "execution_count": null,
      "outputs": [
        {
          "output_type": "stream",
          "text": [
            "Ingrese el valor del primer término (ax^2): 1\n",
            "Ingrese el valor del segundo término (bx): 2\n",
            "Ingrese el valor del tercer téminino (c): 1\n",
            "Su ecuación es:  1.0 x^2 + 2.0 x + 1.0\n",
            "Tu valor de x1 es:  -1.0\n",
            "Tu valor de x2 es:  1.0\n"
          ],
          "name": "stdout"
        }
      ]
    },
    {
      "cell_type": "markdown",
      "metadata": {
        "id": "NrUbNtxTVqnA"
      },
      "source": [
        "Sea la función f(x) = x^2 + 3x + 3 \n",
        "\n",
        "* Realizar un función que acepte como argumento el valor de x.-\n",
        "* Calcule el valor de f(x) y que lo regrese a la función principal.-\n",
        "\n",
        "* En el programa principal, debe de hacer un bucle que ayude a evaluar la     función con valores desde -4 hasta 10.-\n",
        "* Pare el bucle cuando el valor de f(x) sea mayor a 30.-\n",
        "* Guardar en una lista el valor de las iteraciones conforme van pasando.\n",
        "Pistas: Debes de utilizar el bucle while con un contador que comienza en -4 y debe de ir sumando en uno.-\n",
        "*La lista vacía se declara con miLista=[ ] y cada que quieras agregar algún elemento te conviene\n",
        "utilizar .append(valor).-"
      ]
    },
    {
      "cell_type": "code",
      "metadata": {
        "id": "sTPdbmDQmV5x",
        "outputId": "9659b0e0-26f9-4400-e02a-86996b493f45",
        "colab": {
          "base_uri": "https://localhost:8080/"
        }
      },
      "source": [
        "def funcion(x):\n",
        "  x=(x*x)+(3.0*x)+3.0\n",
        "  return [x]\n",
        "\n",
        "miLista=[]\n",
        "\n",
        "i=-4.0\n",
        "f=10.0\n",
        "while i<=f:    \n",
        "  z=i\n",
        "  x=-4\n",
        "  while z==3 and x<=3:   \n",
        "\n",
        "    y=funcion(x)\n",
        "    print(\"En la función f(x) = x^2 + 3x + 3, Tu función es: \",x,\"^ 2 + 3 *\",x,\"+ 3 =\",y)\n",
        "    t=y\n",
        "    x=x+1 \n",
        "    miLista.append(t)\n",
        "   \n",
        "  i=i+1.0  \n",
        "\n",
        "print(\"Tus valores guardados en la lista son\",miLista)\n"
      ],
      "execution_count": 8,
      "outputs": [
        {
          "output_type": "stream",
          "text": [
            "En la función f(x) = x^2 + 3x + 3, Tu función es:  -4 ^ 2 + 3 * -4 + 3 = [7.0]\n",
            "En la función f(x) = x^2 + 3x + 3, Tu función es:  -3 ^ 2 + 3 * -3 + 3 = [3.0]\n",
            "En la función f(x) = x^2 + 3x + 3, Tu función es:  -2 ^ 2 + 3 * -2 + 3 = [1.0]\n",
            "En la función f(x) = x^2 + 3x + 3, Tu función es:  -1 ^ 2 + 3 * -1 + 3 = [1.0]\n",
            "En la función f(x) = x^2 + 3x + 3, Tu función es:  0 ^ 2 + 3 * 0 + 3 = [3.0]\n",
            "En la función f(x) = x^2 + 3x + 3, Tu función es:  1 ^ 2 + 3 * 1 + 3 = [7.0]\n",
            "En la función f(x) = x^2 + 3x + 3, Tu función es:  2 ^ 2 + 3 * 2 + 3 = [13.0]\n",
            "En la función f(x) = x^2 + 3x + 3, Tu función es:  3 ^ 2 + 3 * 3 + 3 = [21.0]\n",
            "Tus valores guardados en la lista son [[7.0], [3.0], [1.0], [1.0], [3.0], [7.0], [13.0], [21.0]]\n"
          ],
          "name": "stdout"
        }
      ]
    }
  ]
}